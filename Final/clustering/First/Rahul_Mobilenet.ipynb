{
 "cells": [
  {
   "cell_type": "code",
   "execution_count": 0,
   "metadata": {
    "colab": {},
    "colab_type": "code",
    "id": "VcrDXG-DUm80"
   },
   "outputs": [],
   "source": [
    "from pyspark import SparkContext\n",
    "from pyspark.sql import SQLContext\n",
    "from pyspark.sql import SparkSession\n",
    "from pyspark.conf import SparkConf"
   ]
  },
  {
   "cell_type": "code",
   "execution_count": 0,
   "metadata": {
    "colab": {},
    "colab_type": "code",
    "id": "OxNS-AUPUm86"
   },
   "outputs": [],
   "source": [
    "sc.stop()"
   ]
  },
  {
   "cell_type": "code",
   "execution_count": 0,
   "metadata": {
    "colab": {},
    "colab_type": "code",
    "id": "lDVx_LHiUm88"
   },
   "outputs": [],
   "source": [
    "sc = SparkContext()\n",
    "spark = SparkSession(sc)\n",
    "sqlContext = SQLContext(sc)"
   ]
  },
  {
   "cell_type": "code",
   "execution_count": 0,
   "metadata": {
    "colab": {},
    "colab_type": "code",
    "id": "VW_UZ46LUm8_"
   },
   "outputs": [],
   "source": [
    "import findspark\n",
    "findspark.init()"
   ]
  },
  {
   "cell_type": "code",
   "execution_count": 0,
   "metadata": {
    "colab": {},
    "colab_type": "code",
    "id": "jDybvUGfUm9B"
   },
   "outputs": [],
   "source": [
    "in_bucket=\"s3://dsde6007.rahul/devicestatus.txt\""
   ]
  },
  {
   "cell_type": "code",
   "execution_count": 0,
   "metadata": {
    "colab": {},
    "colab_type": "code",
    "id": "Nak2msQwVdwK"
   },
   "outputs": [],
   "source": [
    "data = sc.textFile(in_bucket)"
   ]
  },
  {
   "cell_type": "code",
   "execution_count": 0,
   "metadata": {
    "colab": {},
    "colab_type": "code",
    "id": "8YP0SNn3VA8p"
   },
   "outputs": [],
   "source": [
    "def clean_data(data):\n",
    "  data = data.split(\"\\n\")\n",
    "  data = re.sub(\"[\\|/]\", \",\", data)\n",
    "  data = data.split(\",\")\n",
    "  data = (data[-1], data[-2], data[0], data[1])\n",
    "  data[3] = data[3].split()"
   ]
  },
  {
   "cell_type": "code",
   "execution_count": 0,
   "metadata": {
    "colab": {},
    "colab_type": "code",
    "id": "GYGcR2NMVaCZ"
   },
   "outputs": [],
   "source": [
    "data = clean_data(data)"
   ]
  },
  {
   "cell_type": "code",
   "execution_count": 0,
   "metadata": {
    "colab": {},
    "colab_type": "code",
    "id": "JAYPLoRLUm9H",
    "outputId": "67380943-039a-4fde-9379-0b44747e3695"
   },
   "outputs": [
    {
     "data": {
      "text/plain": [
       "[(33.6894754264, -117.543308253, '2014-03-15:10:10:20', 'Sorrento', 'F41L'),\n",
       " (37.4321088904, -121.485029632, '2014-03-15:10:10:20', 'MeeToo', '1.0'),\n",
       " (39.4378908349, -120.938978486, '2014-03-15:10:10:20', 'MeeToo', '1.0'),\n",
       " (39.3635186767, -119.400334708, '2014-03-15:10:10:20', 'Sorrento', 'F41L'),\n",
       " (33.1913581092, -116.448242643, '2014-03-15:10:10:20', 'Ronin', 'Novelty')]"
      ]
     },
     "execution_count": 7,
     "metadata": {
      "tags": []
     },
     "output_type": "execute_result"
    }
   ],
   "source": [
    "data.take(5)"
   ]
  },
  {
   "cell_type": "code",
   "execution_count": 0,
   "metadata": {
    "colab": {},
    "colab_type": "code",
    "id": "TxFoL7oyWgSr"
   },
   "outputs": [],
   "source": [
    "data = data.collect()"
   ]
  },
  {
   "cell_type": "code",
   "execution_count": 0,
   "metadata": {
    "colab": {},
    "colab_type": "code",
    "id": "887XXmnkWui-"
   },
   "outputs": [],
   "source": [
    "df = pd.DataFrame(data, columns=['latitude', 'longitude', 'datestr', 'manufacturer', 'model_name'])\n",
    "df['latitude'] = df['latitude'].astype(float)\n",
    "df['longitude'] = df['longitude'].astype(float)\n",
    "df['datestr'] = df['datestr'].astype(str)\n",
    "df['manufacturer'] = df['manufacturer'].astype(str)\n",
    "df['model_name'] = df['model_name'].astype(str)"
   ]
  },
  {
   "cell_type": "code",
   "execution_count": 0,
   "metadata": {
    "colab": {},
    "colab_type": "code",
    "id": "WtMJnANNXz7f"
   },
   "outputs": [],
   "source": [
    "df['date'] = df['datestr'].astype('datetime64[ns]')"
   ]
  },
  {
   "cell_type": "code",
   "execution_count": 0,
   "metadata": {
    "colab": {},
    "colab_type": "code",
    "id": "PRoUwQx7YLgQ"
   },
   "outputs": [],
   "source": [
    "df = df['latitude', 'longitude', 'date', 'manufacturer', 'model_name']"
   ]
  },
  {
   "cell_type": "code",
   "execution_count": 0,
   "metadata": {
    "colab": {},
    "colab_type": "code",
    "id": "Bfsgs9JFUm9P"
   },
   "outputs": [],
   "source": [
    "out_bucket=\"s3://dsci6007.rahul/data\""
   ]
  },
  {
   "cell_type": "code",
   "execution_count": 0,
   "metadata": {
    "colab": {},
    "colab_type": "code",
    "id": "DMgJbhOzUm9U"
   },
   "outputs": [],
   "source": [
    "df.rdd.coalesce(1).saveAsTextFile(out_bucket)"
   ]
  },
  {
   "cell_type": "code",
   "execution_count": 0,
   "metadata": {
    "colab": {},
    "colab_type": "code",
    "id": "jOwina1zWOCL"
   },
   "outputs": [],
   "source": [
    "data = sc.textFile(out_bucket)"
   ]
  },
  {
   "cell_type": "code",
   "execution_count": 0,
   "metadata": {
    "colab": {},
    "colab_type": "code",
    "id": "Hgkg9IybY4HE"
   },
   "outputs": [],
   "source": [
    "df = pd.DataFrame(data, columns=['latitude', 'longitude', 'datestr', 'manufacturer', 'model_name'])\n",
    "df['latitude'] = df['latitude'].astype(float)\n",
    "df['longitude'] = df['longitude'].astype(float)\n",
    "df['datestr'] = df['datestr'].astype(str)\n",
    "df['manufacturer'] = df['manufacturer'].astype(str)\n",
    "df['model_name'] = df['model_name'].astype(str)"
   ]
  },
  {
   "cell_type": "code",
   "execution_count": 0,
   "metadata": {
    "colab": {},
    "colab_type": "code",
    "id": "r0jhpmrmY5F4"
   },
   "outputs": [],
   "source": [
    "df['date'] = df['datestr'].astype('datetime64[ns]')"
   ]
  },
  {
   "cell_type": "code",
   "execution_count": 0,
   "metadata": {
    "colab": {},
    "colab_type": "code",
    "id": "VJFiQFiLY62R"
   },
   "outputs": [],
   "source": [
    "df = df['latitude', 'longitude', 'date', 'manufacturer', 'model_name']"
   ]
  },
  {
   "cell_type": "code",
   "execution_count": 0,
   "metadata": {
    "colab": {},
    "colab_type": "code",
    "id": "wsJjjg6TUm9g",
    "outputId": "5bb44571-27f2-42c0-952e-9373ded60be3"
   },
   "outputs": [
    {
     "data": {
      "image/png": "[encoded data removed]",
      "text/plain": [
       "<Figure size 432x288 with 1 Axes>"
      ]
     },
     "metadata": {
      "needs_background": "light",
      "tags": []
     },
     "output_type": "display_data"
    }
   ],
   "source": [
    "import seaborn as sns\n",
    "ax = sns.scatterplot(x=df['latitude'], y=df['longitude'])"
   ]
  },
  {
   "cell_type": "code",
   "execution_count": 0,
   "metadata": {
    "colab": {},
    "colab_type": "code",
    "id": "jJBK1ilKUm9k"
   },
   "outputs": [],
   "source": []
  },
  {
   "cell_type": "code",
   "execution_count": 0,
   "metadata": {
    "colab": {},
    "colab_type": "code",
    "id": "rCqovXXeUm9m"
   },
   "outputs": [],
   "source": []
  },
  {
   "cell_type": "code",
   "execution_count": 0,
   "metadata": {
    "colab": {},
    "colab_type": "code",
    "id": "rEsFGa-ZUm91"
   },
   "outputs": [],
   "source": []
  }
 ],
 "metadata": {
  "colab": {
   "collapsed_sections": [],
   "name": "Rahul_Mobilenet.ipynb",
   "provenance": []
  },
  "kernelspec": {
   "display_name": "Python 3",
   "language": "python",
   "name": "python3"
  },
  "language_info": {
   "codemirror_mode": {
    "name": "ipython",
    "version": 3
   },
   "file_extension": ".py",
   "mimetype": "text/x-python",
   "name": "python",
   "nbconvert_exporter": "python",
   "pygments_lexer": "ipython3",
   "version": "3.7.4"
  }
 },
 "nbformat": 4,
 "nbformat_minor": 1
}
